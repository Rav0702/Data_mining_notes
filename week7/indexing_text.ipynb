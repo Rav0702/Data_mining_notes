{
 "cells": [
  {
   "cell_type": "markdown",
   "source": [
    "# Query Processing\n",
    "\n",
    "Query processing is the process of retrieving relevant documents from a collection of indexed text based on a user's query. The process involves breaking down the query into individual terms and searching the index for documents that contain those terms. The results are then ranked based on relevance and presented to the user. Query processing is an important part of information retrieval systems, such as search engines, that allow users to quickly find relevant information from large collections of text.\n",
    "\n",
    "- Open pointers to all lists at the same time\n",
    "- Systematically move all pointers to find the intersection\n",
    "    - If all pointer point to  the same doc-id → report as a result and move all pointers by one step\n",
    "    - Find the max doc-id\n",
    "    - Move all pointers until max doc id\n",
    "\n",
    "# Posting Lists\n",
    "\n",
    "List compression is a technique used in indexing text to reduce the amount of space needed to store posting lists. It involves storing only the differences between adjacent docIDs instead of the full docID. This approach can greatly reduce the amount of space needed to store posting lists, especially for collections with many small documents or for indexes with many terms. However, it also requires additional processing during query processing to reconstruct the full docID from the compressed representation.\n",
    "\n",
    "From term-document matrices to posting lists\n",
    "\n",
    "For each term t, we must store a list of all documents that contain t\n",
    "\n",
    "Identify each doc by docID a document serial number\n",
    "\n",
    "Posting: docID, doc score, positions, ..\n",
    "\n",
    "# Logical vs Physical Layout\n",
    "\n",
    "- Logical layout as a sequence of postings\n",
    "- Physical layer:\n",
    "[Physical layer](../assets/ph_layer.png)\n",
    "\n",
    "# Inverted Index Construction\n",
    "\n",
    "- Memory-based Inversion\n",
    "    - Takes place entirely in-memory\n",
    "    - For small collections, where the index + lexicon fits in memory\n",
    "- Disk-based Inversion\n",
    "    - Sort-based inversion vs Merge-based inversion"
   ],
   "metadata": {
    "collapsed": false
   }
  },
  {
   "cell_type": "code",
   "execution_count": null,
   "metadata": {
    "collapsed": true
   },
   "outputs": [],
   "source": []
  }
 ],
 "metadata": {
  "kernelspec": {
   "display_name": "Python 3",
   "language": "python",
   "name": "python3"
  },
  "language_info": {
   "codemirror_mode": {
    "name": "ipython",
    "version": 2
   },
   "file_extension": ".py",
   "mimetype": "text/x-python",
   "name": "python",
   "nbconvert_exporter": "python",
   "pygments_lexer": "ipython2",
   "version": "2.7.6"
  }
 },
 "nbformat": 4,
 "nbformat_minor": 0
}
