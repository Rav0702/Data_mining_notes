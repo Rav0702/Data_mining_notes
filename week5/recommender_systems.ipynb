{
 "cells": [
  {
   "cell_type": "markdown",
   "source": [
    "Recommender Systems are software tools and techniques providing suggestions for items to be of use to a user. The suggestions relate to various decision making processing.\n",
    "\n",
    "# Collaborative-Filtering Recommendations\n",
    "\n",
    "Identify a group of people for a user with similar preferences → Suggest to you items preferred by the group\n",
    "\n",
    "### Advantages vs Disadvantages\n",
    "\n",
    "Simplicity\n",
    "Justifiability\n",
    "Efficiency\n",
    "Stability\n",
    "Works for any kind of item\n",
    "\n",
    "Cold start\n",
    "Sparsity\n",
    "First ratter\n",
    "Popularity bias\n",
    "\n",
    "# Content-Based Recommendations\n",
    "\n",
    "Analyse the descriptions of items previously rated by a user and build a user profile based on the features of the items\n",
    "\n",
    "### Advantages vs Disadvantages\n",
    "\n",
    "User independence\n",
    "Transparency\n",
    "New items\n",
    "No need for data on other users\n",
    "Able to recommend to users with unique tastes\n",
    "Able to recommend new and unpopular items\n",
    "Able to provide explanations\n",
    "\n",
    "Limited content analysis\n",
    "Over-specialization\n",
    "New user\n",
    "Finding the appropriate features is hard"
   ],
   "metadata": {
    "collapsed": false
   }
  },
  {
   "cell_type": "code",
   "execution_count": null,
   "metadata": {
    "collapsed": true
   },
   "outputs": [],
   "source": []
  }
 ],
 "metadata": {
  "kernelspec": {
   "display_name": "Python 3",
   "language": "python",
   "name": "python3"
  },
  "language_info": {
   "codemirror_mode": {
    "name": "ipython",
    "version": 2
   },
   "file_extension": ".py",
   "mimetype": "text/x-python",
   "name": "python",
   "nbconvert_exporter": "python",
   "pygments_lexer": "ipython2",
   "version": "2.7.6"
  }
 },
 "nbformat": 4,
 "nbformat_minor": 0
}
