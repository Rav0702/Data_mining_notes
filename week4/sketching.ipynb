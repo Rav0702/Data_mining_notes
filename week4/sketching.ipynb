{
 "cells": [
  {
   "cell_type": "markdown",
   "source": [
    "# Sketching"
   ],
   "metadata": {
    "collapsed": false
   }
  },
  {
   "cell_type": "code",
   "execution_count": null,
   "outputs": [],
   "source": [
    "import numpy as np\n",
    "import matplotlib.pyplot as plt\n",
    "from sklearn.datasets import make_moons, make_blobs\n",
    "import random\n",
    "\n",
    "X = np.random.randint(10,size=20000)\n",
    "y = np.bincount(X)"
   ],
   "metadata": {
    "collapsed": false
   }
  },
  {
   "cell_type": "markdown",
   "source": [
    "\n",
    "## Data Streams\n",
    "\n",
    "Data streams refer to the continuous flow of data that is generated in real-time.\n",
    "\n",
    "- Continuous and rapid input of data\n",
    "- Limited memory to store the data (less than linear in the input size)\n",
    "- Limited time to process each element\n",
    "- Sequential access (no random access)\n",
    "- Algorithms have one (p=1) or very few passes (p={2,3}) over the data"
   ],
   "metadata": {
    "collapsed": false
   }
  },
  {
   "cell_type": "markdown",
   "source": [
    "## Morris Counting\n",
    "\n",
    "- On data streams, we have to reduce memory usage\n",
    "- Approximate counting uses several such counters, with different head/tail probabilities:\n",
    "- Set counter to 0\n",
    "- Update:\n",
    "• Draw random number x from [0, 1]\n",
    "• If (x <= 2 -c) c = c + 1\n",
    "- Query: return 2c - 2\n",
    "- And it runs in log(log(n)) memory ( E[c] = log(n) .... )"
   ],
   "metadata": {
    "collapsed": false
   }
  },
  {
   "cell_type": "code",
   "execution_count": null,
   "metadata": {
    "collapsed": true
   },
   "outputs": [],
   "source": [
    "def morris(X: np.array) -> int:\n",
    "  counter = 0\n",
    "  def step(counter: int) -> int:\n",
    "    ran = random.random()\n",
    "    if ran <= 1/np.power(2,counter):\n",
    "      return counter + 1\n",
    "    return counter\n",
    "  for _ in X:\n",
    "    counter = step(counter)\n",
    "  return np.power(2,counter) - 2\n",
    "morris(X)"
   ]
  },
  {
   "cell_type": "markdown",
   "source": [
    "## Reservoir Sampling\n",
    "\n",
    "- Sampling: selection of a subset of items from a large data set\n",
    "- Goal: sample retains the properties of the whole data set\n",
    "- Important for drawing the right conclusions from the data\n",
    "\n",
    "**Algorithm**\n",
    "\n",
    "- Sample first m items\n",
    "- Choose to sample the i’th item (i>m) with probability pi= m/i\n",
    "- If sampled, randomly replace a previously sampled item\n",
    "- Optimization: when i gets large, compute which item will be sampled next, skip over intervening items"
   ],
   "metadata": {
    "collapsed": false
   }
  },
  {
   "cell_type": "code",
   "execution_count": null,
   "outputs": [],
   "source": [
    "def reservoir_sampling(X: np.array, m: int) -> int:\n",
    "  reservoir = X[:m]\n",
    "  for i in range(m, len(X)):\n",
    "    ran = random.random()\n",
    "    if ran < m/i:\n",
    "      reservoir[random.randint(0, len(reservoir)-1)] = X[i]\n",
    "  return reservoir\n",
    "reservoir_sampling(X, 10)"
   ],
   "metadata": {
    "collapsed": false
   }
  },
  {
   "cell_type": "code",
   "execution_count": null,
   "outputs": [],
   "source": [
    "def reservoir_sampling_order(X: np.array, k: int) -> int:\n",
    "  reservoir = []\n",
    "  for i in X:\n",
    "    reservoir.append((random.random(), i))\n",
    "    reservoir = sorted(reservoir)[:k]\n",
    "  return [i[1] for i in reservoir]\n",
    "reservoir_sampling_order(X, 10)"
   ],
   "metadata": {
    "collapsed": false
   }
  },
  {
   "cell_type": "markdown",
   "source": [
    "## Sketches\n",
    "\n",
    "- Not every problem can be solved with sampling\n",
    "• Example: counting how many distinct items in the stream\n",
    "• If a large fraction of items are not sampled, don’t know if they\n",
    "are all same or all different\n",
    "• Other techniques take advantage that the algorithm can\n",
    "“see” all the data even if it can’t “remember” it all\n",
    "•\n",
    "“Sketch”: essentially, a linear transform of the input\n",
    "• Model stream as defining a vector, sketch is result of multiplying\n",
    "stream vector by an (implicit) matrix\n",
    "\n",
    "## FM Sketch (Flajolet-Martin)\n",
    "\n",
    "- Approach: hash data stream elements uniformly to N bit values, i.e.:\n",
    "• Task: Given a data stream of, estimate the number of\n",
    "distinct elements occurring in it (recall Morris counting)\n",
    "• Assumption: the larger the number of distinct elements in the\n",
    "stream, the more distinct the occurring hash values, and the\n",
    "more likely one with an unusual property appears\n"
   ],
   "metadata": {
    "collapsed": false
   }
  },
  {
   "cell_type": "code",
   "execution_count": null,
   "outputs": [],
   "source": [
    "class FMSketch:\n",
    "    def __init__(self, m):\n",
    "        self.m = m\n",
    "        self.hash_function = gen_random_hasher(2**m)\n",
    "        self.maximum = 0\n",
    "\n",
    "    def add(self, x):\n",
    "        hashed = str(bin(self.hash_function(x)))[2:].rjust(self.m, '0')\n",
    "        zeros_at_the_end = (hashed[::-1]+'1').index('1')\n",
    "        self.maximum = max(self.maximum, zeros_at_the_end)\n",
    "\n",
    "    def estimate(self):\n",
    "        return self.maximum**2\n",
    "\n",
    "X = np.random.randint(128,size=500)\n",
    "y = np.bincount(X)\n",
    "fm = FMSketch(32)\n",
    "for x in X:\n",
    "    fm.add(x)\n",
    "\n",
    "estimate = fm.estimate()\n",
    "print(estimate)"
   ],
   "metadata": {
    "collapsed": false
   }
  },
  {
   "cell_type": "markdown",
   "source": [
    "## Majority\n",
    "\n",
    "- Given a stream of elements, find the element that appears more than half the time"
   ],
   "metadata": {
    "collapsed": false
   }
  },
  {
   "cell_type": "code",
   "execution_count": null,
   "outputs": [],
   "source": [
    "def majority(X: np.array) -> int:\n",
    "  c = 0\n",
    "  v = None\n",
    "  for i in X:\n",
    "    if c == 0:\n",
    "      v = i\n",
    "      c = 1\n",
    "    elif v == i:\n",
    "      c += 1\n",
    "    else:\n",
    "      c -= 1\n",
    "  return v\n",
    "majority(X)"
   ],
   "metadata": {
    "collapsed": false
   }
  },
  {
   "cell_type": "markdown",
   "source": [
    "## Frequent\n",
    "- Find all elements in a sequence whose frequency exceeds 1/k fraction of a total count (i.e frequency > m/k)"
   ],
   "metadata": {
    "collapsed": false
   }
  },
  {
   "cell_type": "code",
   "execution_count": null,
   "outputs": [],
   "source": [
    "def frequent(X: np.array, k: int) -> set:\n",
    "  c = [0 for _ in range(k)]\n",
    "  T = set()\n",
    "  for i in X:\n",
    "    if i in T:\n",
    "      c[i] += 1\n",
    "    elif len(T) < k-1:\n",
    "      T.add(i)\n",
    "      c[i] += 1\n",
    "    else:\n",
    "      c = [j-1 for j in c]\n",
    "      for j,v in enumerate(c):\n",
    "        if v == 0:\n",
    "          T.remove(j)\n",
    "  return T\n",
    "frequent(X, 10)"
   ],
   "metadata": {
    "collapsed": false
   }
  },
  {
   "cell_type": "markdown",
   "source": [
    "## Bloom Filter\n",
    "A Bloom filter is a probabilistic data structure used to test whether an element is a member of a set. It works by hashing the element and using the resulting hash to set bits in a bit array. When testing for membership of an element, the same hash function is applied to the element and the corresponding bits in the bit array are checked. If all the corresponding bits are set, the element is considered to be in the set, though there is a small probability of a false positive. Bloom filters are commonly used in situations where the space required for storing a set of elements is a concern, such as in network routers or database systems.\n",
    "\n",
    "**Algorithm**\n",
    "\n",
    "- Given:\n",
    "    * A set of hash functions h1, h2, ..., hn hi: W -> [1, n]\n",
    "    * A bit vector of size n (initialized to 0)\n",
    "- to add an element to W\n",
    "    * for each hash function hi\n",
    "    * set the bit at position hi(x) to 1\n",
    "- to test whether an element x is in W\n",
    "    * compute each hash function hi\n",
    "    * sum up the returned bits\n",
    "    * return TRUE if the sum is equal to k, FALSE otherwise"
   ],
   "metadata": {
    "collapsed": false
   }
  },
  {
   "cell_type": "code",
   "execution_count": null,
   "outputs": [],
   "source": [
    "import secrets\n",
    "\n",
    "def gen_random_hasher(max_val=1024):\n",
    "    seed = secrets.randbits(64)\n",
    "    return lambda val: (hash(val) ^ seed) % max_val\n",
    "\n",
    "# Hash functions\n",
    "def get_hash_functions(k: int, maximum: int) -> list:\n",
    "  return [gen_random_hasher(maximum) for i in range(k)]"
   ],
   "metadata": {
    "collapsed": false
   }
  },
  {
   "cell_type": "code",
   "execution_count": null,
   "outputs": [],
   "source": [
    "class BloomFilter:\n",
    "  def __init__(self, k):\n",
    "    self.hashes = get_hash_functions(k,k)\n",
    "    self.buckets = [0 for i in range(k)]\n",
    "    self.k = k\n",
    "  def push(self, x):\n",
    "    vals = [i(x) for i in self.hashes]\n",
    "    for i in vals:\n",
    "      self.buckets[i]=1\n",
    "  def query(self, x):\n",
    "    return np.sum([self.buckets[i(x)] for i in self.hashes]) == self.k\n",
    "\n",
    "bloom = BloomFilter(10)\n",
    "bloom.push(5)\n",
    "print(bloom.query(5))\n",
    "print(bloom.query(6))\n",
    "bloom.push(6)\n",
    "print(bloom.query(6))"
   ],
   "metadata": {
    "collapsed": false
   }
  },
  {
   "cell_type": "markdown",
   "source": [
    "## Count-Min Sketch\n",
    "- Simple sketch idea, can be used for as the basis of many\n",
    "different stream mining tasks\n",
    "    * Join aggregates, range queries, moments, ...\n",
    "    * Creates a small summary as an array of w ́ d in size\n",
    "    * Use d hash functions to map vector entries to [1..w]"
   ],
   "metadata": {
    "collapsed": false
   }
  },
  {
   "cell_type": "code",
   "execution_count": null,
   "outputs": [],
   "source": [
    "class FMSketch:\n",
    "    def __init__(self, m):\n",
    "        self.m = m\n",
    "        self.hash_function = gen_random_hasher(2**m)\n",
    "        self.maximum = 0\n",
    "\n",
    "    def add(self, x):\n",
    "        hashed = str(bin(self.hash_function(x)))[2:].rjust(self.m, '0')\n",
    "        zeros_at_the_end = (hashed[::-1]+'1').index('1')\n",
    "        self.maximum = max(self.maximum, zeros_at_the_end)\n",
    "\n",
    "    def estimate(self):\n",
    "        return self.maximum**2\n",
    "\n",
    "X = np.random.randint(128,size=500)\n",
    "y = np.bincount(X)\n",
    "fm = FMSketch(32)\n",
    "for x in X:\n",
    "    fm.add(x)\n",
    "\n",
    "estimate = fm.estimate()\n",
    "print(estimate)"
   ],
   "metadata": {
    "collapsed": false
   }
  },
  {
   "cell_type": "markdown",
   "source": [],
   "metadata": {
    "collapsed": false
   }
  }
 ],
 "metadata": {
  "kernelspec": {
   "display_name": "Python 3",
   "language": "python",
   "name": "python3"
  },
  "language_info": {
   "codemirror_mode": {
    "name": "ipython",
    "version": 2
   },
   "file_extension": ".py",
   "mimetype": "text/x-python",
   "name": "python",
   "nbconvert_exporter": "python",
   "pygments_lexer": "ipython2",
   "version": "2.7.6"
  }
 },
 "nbformat": 4,
 "nbformat_minor": 0
}
