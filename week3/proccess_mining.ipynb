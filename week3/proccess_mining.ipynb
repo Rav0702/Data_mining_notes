{
 "cells": [
  {
   "cell_type": "markdown",
   "source": [
    "# Process mining\n",
    "\n",
    "## Terminology\n",
    "***Process Mining*** → is data analytics technology to reconstruct, analyse, and improve business processes based on log data from transactional IT systems.\n",
    "\n",
    "***Discovery*** → refers to the automatic extraction of a process model from event logs. This process model represents the actual sequence of activities performed during the execution of the business process, and serves as a basis for further analysis and improvement.\n",
    "\n",
    "***Conformance*** → refers to the analysis of the degree to which the actual process execution conforms to the a priori defined process model created during the discovery phase of process mining. This analysis can identify deviations from the expected process flow and help to improve process efficiency and effectiveness.\n",
    "\n",
    "***Analysis*** →  refers to the use of various analytical techniques to gain insights and understanding of the underlying business processes. It involves examining process models and event logs to identify process inefficiencies, bottlenecks, and other issues that can be improved. The goal of analysis is to identify areas where processes can be optimized and to provide actionable insights that can be used to improve business processes.\n",
    "\n",
    "\n",
    "## Directly-Follows Graph (DGF)\n",
    "A Directly-Follows Graph (DFG) is a process model that represents the order in which activities are performed in a business process. It is a directed graph that shows the relationship between two activities, where the second activity follows the first activity in the process flow. DFGs are used in process mining to visualize the process flow and identify patterns in the data that can be used to improve process efficiency and effectiveness.\n",
    "\n",
    "- cannot capture concurrency\n",
    "- the simplest representation of the process models\n",
    "\n",
    "Easy to create and scalable\n",
    "Shows times, frequencies and times\n",
    "Can be easily simplified using filters\n",
    "\n",
    "Filtering needs to be done with the utmost care\n",
    "Can not capture concurrency\n",
    "\n",
    "# Business Process Model and Notation (BPMN)\n",
    "\n",
    "Business Process Model and Notation (BPMN) is a standard graphical notation for modelling business processes. It provides a visual representation of the steps in a business process, including the flow of data between them. BPMN is often used in process mining to create more detailed and complex process models that can be used to further analyse and optimize business processes.\n",
    "\n",
    "- more readable when it comes to multiple variants\n",
    "- shows that actions can be taken in parallel"
   ],
   "metadata": {
    "collapsed": false
   }
  }
 ],
 "metadata": {
  "kernelspec": {
   "display_name": "Python 3",
   "language": "python",
   "name": "python3"
  },
  "language_info": {
   "codemirror_mode": {
    "name": "ipython",
    "version": 2
   },
   "file_extension": ".py",
   "mimetype": "text/x-python",
   "name": "python",
   "nbconvert_exporter": "python",
   "pygments_lexer": "ipython2",
   "version": "2.7.6"
  }
 },
 "nbformat": 4,
 "nbformat_minor": 0
}
